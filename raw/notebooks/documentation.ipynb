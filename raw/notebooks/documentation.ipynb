{
 "cells": [
  {
   "cell_type": "markdown",
   "metadata": {},
   "source": [
    "# Documentation APK inference"
   ]
  },
  {
   "cell_type": "markdown",
   "metadata": {},
   "source": [
    "## Introduction\n",
    "\n",
    "APK inference is intended to detect when a fraudulent mobile application with file extension .apk tries to suplant the art of a legitimate mobile application. For this aim we use image similarity measures in order to identify when two app logos have a similar art but belong to different developers. \n",
    "\n",
    "### 1. Looking for the anchors (legitimate client art).\n",
    "\n",
    "We set the legitimate app logos as the anchors. These anchor are identified performing a web scrapping in the princial web application stores, say AppStore and GooglePlay. To perform this web scrapping we set the name of the application and the developper, which we identified previously in a manual process. \n",
    "\n",
    "The set of anchors correspond to mobile application logos from AppGate clients. We store the information about their corresponding mobile application names and developers in a json file with the path: `files/clients.json`. Using this information we perform the web scrapping process to search all the applcations with the corresponding name and developer in both Appstore and GooglePlay web sites. All the logos which share similar art and belong to the same developer are stored as the anchors for that client. The anchors for each client is located in the path: `data/anchors/{client_name_dir}/{store}/`\n",
    "\n",
    "### 2. Web scrapping for possible fraudulent mobile apps art.\n",
    "\n",
    "After store one or more anchors for all the clients we perform a web scrapping process, looking at all the results obtained by searching the client's name in the principal mobile application stores previously mentioned. For each result (mobile application found) we store its corresponding logo and the meta information such as developer, url from image, application identifier, etc. This is stored in the path: `data/scrap/{store}/{client_name}/` where the application logos are in the directory `images` as `.png` images, and the application metainformation is in the directory `query_results`as a `.json` file.\n",
    "\n",
    "### 3. Comparing anchors with web scrapped logos.\n",
    "\n",
    "Finally we use the web scrapped images for a client and compare them with the client anchors (found in the previous steps) one by one. This comparisson is performed using a set of similiarty image measures such as ............. etc. All these metrics are then aggregated in a final score from 0 to 1 which determine how similar is the art from one scrapped application with respect to the anchors or legitimate art of the client application, where 0 is totally no similar, and 1 is totally similar.\n",
    "\n",
    "We set a threshold which determine if an alert must be promted. When the two apps' art is similar enough (similarity $\\geq$ threshold) we look at the developper, if it is the same for both then no alert must be presented, if it is not, then a warning must be raised alerting from a possible art impersonation, which can lead to fraud, scam, etc. impacting the client reputation.\n",
    "\n",
    "\n",
    "## How it works\n",
    "\n",
    "In the next section it is presented how this project works. Performing all the process described previously using the modules and tools from this repository\n",
    "\n",
    "\n",
    "### Looking for the anchors (legitimate client art).\n",
    "\n",
    "For this aim we are using the clients info in `files/clients.json`\n",
    "\n"
   ]
  },
  {
   "cell_type": "code",
   "execution_count": 8,
   "metadata": {},
   "outputs": [],
   "source": [
    "import os\n",
    "\n",
    "os."
   ]
  },
  {
   "cell_type": "code",
   "execution_count": 9,
   "metadata": {},
   "outputs": [
    {
     "data": {
      "text/plain": [
       "'/home/nodek1/Appgate/Projects/apk_inference/raw/notebooks'"
      ]
     },
     "execution_count": 9,
     "metadata": {},
     "output_type": "execute_result"
    }
   ],
   "source": [
    "os.getcwd()"
   ]
  },
  {
   "cell_type": "code",
   "execution_count": null,
   "metadata": {},
   "outputs": [],
   "source": []
  }
 ],
 "metadata": {
  "kernelspec": {
   "display_name": "Python 3 (ipykernel)",
   "language": "python",
   "name": "python3"
  },
  "language_info": {
   "codemirror_mode": {
    "name": "ipython",
    "version": 3
   },
   "file_extension": ".py",
   "mimetype": "text/x-python",
   "name": "python",
   "nbconvert_exporter": "python",
   "pygments_lexer": "ipython3",
   "version": "3.9.12"
  }
 },
 "nbformat": 4,
 "nbformat_minor": 4
}
